{
 "cells": [
  {
   "cell_type": "code",
   "execution_count": 15,
   "metadata": {},
   "outputs": [],
   "source": [
    "import sympy\n",
    "from sympy import exp, Symbol, log"
   ]
  },
  {
   "cell_type": "code",
   "execution_count": 2,
   "metadata": {},
   "outputs": [],
   "source": [
    "x = Symbol(\"x\")\n",
    "b = Symbol(\"b\")\n",
    "y = Symbol(\"y\")\n",
    "z = Symbol(\"z\")"
   ]
  },
  {
   "cell_type": "code",
   "execution_count": 3,
   "metadata": {},
   "outputs": [],
   "source": [
    "def g(x):\n",
    "    return exp(b * (x - 1))\n",
    "\n",
    "def G(x):\n",
    "    return 1 / b * (exp(b * (x - 1)) - exp(- b))"
   ]
  },
  {
   "cell_type": "code",
   "execution_count": 9,
   "metadata": {},
   "outputs": [
    {
     "data": {
      "text/latex": [
       "$\\displaystyle \\left(1 - z\\right) \\left(\\begin{cases} \\frac{1}{b} - \\frac{e^{- b}}{b} & \\text{for}\\: b > -\\infty \\wedge b < \\infty \\wedge b \\neq 0 \\\\1 & \\text{otherwise} \\end{cases}\\right) + \\begin{cases} \\frac{e^{b \\left(z - 1\\right)}}{b} - \\frac{e^{- b}}{b} & \\text{for}\\: b > -\\infty \\wedge b < \\infty \\wedge b \\neq 0 \\\\z & \\text{otherwise} \\end{cases}$"
      ],
      "text/plain": [
       "(1 - z)*Piecewise((1/b - exp(-b)/b, (b > -oo) & (b < oo) & Ne(b, 0)), (1, True)) + Piecewise((exp(b*(z - 1))/b - exp(-b)/b, (b > -oo) & (b < oo) & Ne(b, 0)), (z, True))"
      ]
     },
     "execution_count": 9,
     "metadata": {},
     "output_type": "execute_result"
    }
   ],
   "source": [
    "sympy.integrate(g(x), (x, 0, z)) + (1 - z) * sympy.integrate(g(x), (x, 0, 1))"
   ]
  },
  {
   "cell_type": "code",
   "execution_count": 11,
   "metadata": {},
   "outputs": [
    {
     "data": {
      "text/latex": [
       "$\\displaystyle \\frac{\\left(- z e^{b} + z + e^{b} + e^{b z} - 2\\right) e^{- b}}{b}$"
      ],
      "text/plain": [
       "(-z*exp(b) + z + exp(b) + exp(b*z) - 2)*exp(-b)/b"
      ]
     },
     "execution_count": 11,
     "metadata": {},
     "output_type": "execute_result"
    }
   ],
   "source": [
    "sympy.simplify(exp(b*(z - 1))/b - exp(-b)/b + (1/b - exp(-b)/b) * (1 - z))"
   ]
  },
  {
   "cell_type": "code",
   "execution_count": 13,
   "metadata": {},
   "outputs": [
    {
     "data": {
      "text/latex": [
       "$\\displaystyle \\frac{\\left(- z e^{b} + z + e^{b} + e^{b z} - 2\\right) e^{- b}}{b}$"
      ],
      "text/plain": [
       "(-z*exp(b) + z + exp(b) + exp(b*z) - 2)*exp(-b)/b"
      ]
     },
     "execution_count": 13,
     "metadata": {},
     "output_type": "execute_result"
    }
   ],
   "source": [
    "h = (-z*exp(b) + z + exp(b) + exp(b*z) - 2)*exp(-b)/b\n",
    "h"
   ]
  },
  {
   "cell_type": "code",
   "execution_count": 14,
   "metadata": {},
   "outputs": [
    {
     "data": {
      "text/latex": [
       "$\\displaystyle \\frac{\\left(b e^{b z} - e^{b} + 1\\right) e^{- b}}{b}$"
      ],
      "text/plain": [
       "(b*exp(b*z) - exp(b) + 1)*exp(-b)/b"
      ]
     },
     "execution_count": 14,
     "metadata": {},
     "output_type": "execute_result"
    }
   ],
   "source": [
    "sympy.diff(h, z)"
   ]
  },
  {
   "cell_type": "code",
   "execution_count": 18,
   "metadata": {},
   "outputs": [
    {
     "data": {
      "text/latex": [
       "$\\displaystyle \\frac{\\log{\\left(\\frac{e^{b} - 1}{b} \\right)}}{b}$"
      ],
      "text/plain": [
       "log((exp(b) - 1)/b)/b"
      ]
     },
     "execution_count": 18,
     "metadata": {},
     "output_type": "execute_result"
    }
   ],
   "source": [
    "z = 1 / b * log((exp(b)-1) / b)\n",
    "z"
   ]
  },
  {
   "cell_type": "code",
   "execution_count": 26,
   "metadata": {},
   "outputs": [
    {
     "data": {
      "text/latex": [
       "$\\displaystyle \\left(- b^{2} e^{b} + b^{2} + b \\left(e^{b} - 2\\right) - e^{b} \\log{\\left(- \\frac{1 - e^{b}}{b} \\right)} + e^{b} + \\log{\\left(- \\frac{1 - e^{b}}{b} \\right)} - 1\\right) e^{- b}$"
      ],
      "text/plain": [
       "(-b**2*exp(b) + b**2 + b*(exp(b) - 2) - exp(b)*log(-(1 - exp(b))/b) + exp(b) + log(-(1 - exp(b))/b) - 1)*exp(-b)"
      ]
     },
     "execution_count": 26,
     "metadata": {},
     "output_type": "execute_result"
    }
   ],
   "source": [
    "t = (-z*exp(b) + z + exp(b) + exp(b*z) - 2)*exp(-b)/b - (1 - exp(-b))\n",
    "t = sympy.simplify(t) * b ** 2\n",
    "t"
   ]
  },
  {
   "cell_type": "code",
   "execution_count": null,
   "metadata": {},
   "outputs": [],
   "source": []
  }
 ],
 "metadata": {
  "kernelspec": {
   "display_name": "Python 3.10.4 64-bit",
   "language": "python",
   "name": "python3"
  },
  "language_info": {
   "codemirror_mode": {
    "name": "ipython",
    "version": 3
   },
   "file_extension": ".py",
   "mimetype": "text/x-python",
   "name": "python",
   "nbconvert_exporter": "python",
   "pygments_lexer": "ipython3",
   "version": "3.10.4"
  },
  "orig_nbformat": 4,
  "vscode": {
   "interpreter": {
    "hash": "e7370f93d1d0cde622a1f8e1c04877d8463912d04d973331ad4851f04de6915a"
   }
  }
 },
 "nbformat": 4,
 "nbformat_minor": 2
}
